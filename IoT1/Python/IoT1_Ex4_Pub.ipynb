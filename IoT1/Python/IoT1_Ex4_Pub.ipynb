{
  "nbformat": 4,
  "nbformat_minor": 0,
  "metadata": {
    "colab": {
      "provenance": [],
      "include_colab_link": true
    },
    "kernelspec": {
      "name": "python3",
      "display_name": "Python 3"
    },
    "language_info": {
      "name": "python"
    }
  },
  "cells": [
    {
      "cell_type": "markdown",
      "metadata": {
        "id": "view-in-github",
        "colab_type": "text"
      },
      "source": [
        "<a href=\"https://colab.research.google.com/github/wooihaw/ARC6173_T2430/blob/main/IoT1/Python/IoT1_Ex4_Pub.ipynb\" target=\"_parent\"><img src=\"https://colab.research.google.com/assets/colab-badge.svg\" alt=\"Open In Colab\"/></a>"
      ]
    },
    {
      "cell_type": "code",
      "execution_count": null,
      "metadata": {
        "id": "AH8DrKmqMgdv"
      },
      "outputs": [],
      "source": [
        "# Check if paho-mqtt is installed\n",
        "try:\n",
        "    import paho.mqtt.client as mqtt\n",
        "    print(\"paho-mqtt is already installed.\")\n",
        "except ImportError:\n",
        "    print(\"paho-mqtt is not installed. Installing now...\")\n",
        "    !pip install paho-mqtt\n",
        "    print(\"paho-mqtt has been successfully installed.\")"
      ]
    },
    {
      "cell_type": "code",
      "source": [
        "from random import randint\n",
        "import paho.mqtt.client as mqtt\n",
        "\n",
        "# MQTT broker configuration\n",
        "broker = \"test.mosquitto.org\"\n",
        "port = 1883\n",
        "topic = \"StudentID/LED1\"  # Replace StudentID with your actual Student ID\n",
        "\n",
        "client = mqtt.Client(client_id=f\"pub{randint(1, 9999):04}\", callback_api_version=mqtt.CallbackAPIVersion.VERSION2)\n",
        "\n",
        "try:\n",
        "    # Connect to the MQTT broker\n",
        "    client.connect(broker, port, 60)\n",
        "\n",
        "    # Loop to get user input and publish messages\n",
        "    while True:\n",
        "        value = input(\"Enter the value to publish to the topic (0 or 1, or 'exit' to quit): \")\n",
        "\n",
        "        if value == 'exit':\n",
        "            print(\"Exiting...\")\n",
        "            break\n",
        "\n",
        "        if value not in ['0', '1']:\n",
        "            print(\"Invalid input. Please enter 0 or 1.\")\n",
        "            continue\n",
        "\n",
        "        # Publish the message\n",
        "        client.publish(topic, value)\n",
        "        print(f\"Published value {value} to topic {topic}\")\n",
        "\n",
        "except Exception as e:\n",
        "    print(f\"An error occurred: {e}\")\n",
        "\n",
        "finally:\n",
        "    client.disconnect()\n",
        "    print(\"Disconnected from the broker.\")"
      ],
      "metadata": {
        "id": "v1aStc1CMp_p"
      },
      "execution_count": null,
      "outputs": []
    }
  ]
}